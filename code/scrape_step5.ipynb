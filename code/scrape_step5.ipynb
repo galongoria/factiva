{
 "cells": [
  {
   "cell_type": "code",
   "execution_count": 44,
   "id": "27e8c3cb",
   "metadata": {},
   "outputs": [],
   "source": [
    "from dotenv import load_dotenv\n",
    "load_dotenv()\n",
    "import os, json, pickle, time\n",
    "import regex as re\n",
    "from bot import set_driver, open_page, get_href_page, check_page\n",
    "from parse import get_article_info\n",
    "import pandas as pd\n",
    "\n",
    "output_name = \"test\"\n",
    "\n",
    "ut_eid = \"gal767\"\n",
    "\n",
    "eid_password = os.getenv('eid_password')\n",
    "\n",
    "driver_path = \"C://Users//galon//cd_secure//chromedriver.exe\"\n",
    "\n",
    "ARTICLE_DIR = os.path.join('..//data', 'article_hrefs', 'test')\n",
    "\n",
    "os.makedirs(ARTICLE_DIR, exist_ok=True)"
   ]
  },
  {
   "cell_type": "code",
   "execution_count": 45,
   "id": "b389d00f",
   "metadata": {},
   "outputs": [],
   "source": [
    "def gen_searches():\n",
    "    \n",
    "    try:\n",
    "        with open('step5_searches.pickle', 'rb') as file:\n",
    "            articles = pickle.load(file)\n",
    "            if len(articles) == 0:\n",
    "                print('Create a new pickle to manage searches; current list has been exhausted.')\n",
    "    except FileNotFoundError:\n",
    "        articles = {}\n",
    "        for file_name in os.listdir(ARTICLE_DIR):\n",
    "            l = []\n",
    "            with open(os.path.join(os.path.join(ARTICLE_DIR, file_name))) as file:\n",
    "                href_list =  [t for t in re.sub('\\n','',file.read()).split(r'\"') if len(re.findall('\\w+', t)) > 0]\n",
    "                for href in href_list:\n",
    "                    l.append(f\"https://global-factiva-com.ezproxy.lib.utexas.edu/{href.split('&')[0].split('../')[1]}\")\n",
    "            articles[file_name.split('.')[0]] = l\n",
    "    return articles"
   ]
  },
  {
   "cell_type": "code",
   "execution_count": 46,
   "id": "dbfec1ff",
   "metadata": {},
   "outputs": [],
   "source": [
    "def search_article_list(driver, wait, article_list, name):\n",
    "    \n",
    "    temp_list = []\n",
    "    name_list = name.split('_')\n",
    "    for href in article_list:\n",
    "        temp_dict = {'company_code': name_list[0], 'news_code': name_list[1], 'date': name_list[2]}\n",
    "        get_href_page(driver, wait, href)\n",
    "        check_page(driver, wait, href)\n",
    "        temp_list.append(get_article_info(driver.page_source, temp_dict))\n",
    "        time.sleep(4)\n",
    "    return temp_list"
   ]
  },
  {
   "cell_type": "code",
   "execution_count": 49,
   "id": "ba2194a6",
   "metadata": {
    "scrolled": true
   },
   "outputs": [],
   "source": [
    "def get_text(eid_username, eid_password, path):\n",
    "    \n",
    "    results = []\n",
    "    searches = gen_searches()\n",
    "    searches_pickle = searches.copy()\n",
    "    driver, wait = set_driver(path)\n",
    "    open_page(driver, wait, eid_username, eid_password)\n",
    "    \n",
    "    for name, article_list in searches.items():\n",
    "\n",
    "        temp_list = search_article_list(driver, wait, article_list, name)\n",
    "        if temp_list != None:\n",
    "            results += temp_list\n",
    "            print(results)\n",
    "        try:\n",
    "            searches_pickle.pop(name)\n",
    "            with open('step5_searches.pickle', 'wb') as file:\n",
    "                pickle.dump(searches_pickle, file)\n",
    "            with open('dict_list.pickle', 'wb') as file:\n",
    "                pickle.dump(results, file)\n",
    "        except:\n",
    "            return 'Error when saving'\n",
    "    pd.DataFrame.from_dict(results).to_csv('article_test.csv')"
   ]
  },
  {
   "cell_type": "code",
   "execution_count": 50,
   "id": "69bb82b0",
   "metadata": {},
   "outputs": [
    {
     "name": "stdout",
     "output_type": "stream",
     "text": [
      "https://global-factiva-com.ezproxy.lib.utexas.edu/du/article.aspx/?accessionno=j000000020021018dyai00009\n",
      "[{'company_code': 'leghot', 'news_code': 'sfwsj', 'date': '2002', 'HD': 'Fairmont Hotels to Run Monarch', 'WC': '83 words', 'PD': '18 October 2002', 'SN': 'The Wall Street Journal', 'SC': 'J', 'PG': 'B5', 'LA': 'English', 'CY': '(Copyright (c) 2002, Dow Jones & Company, Inc.)', 'LP': \"TORONTO -- Fairmont Hotels & Resorts Inc.'s 35%-owned Legacy Hotels\\nReal Estate Investment Trust agreed to acquire the Monarch Hotel in\\nWashington, D.C., for $145 million. Fairmont said it will operate the\\nhotel. Fairmont, which operates New York's Plaza Hotel and a string of\\nCanadian luxury properties, has been seeking to add to its U.S. hotel\\nportfolio. In August, it secured a contract to manage Sonoma Mission Inn\\n& Spa in Sonoma County, Calif.\", 'TD': '', 'CO': 'farmnt : Fairmont Hotels & Resorts Inc | leghot : Legacy Hotels Real Estate Investment Trust', 'IN': 'i66 : Hotels/Restaurants/Casinos | i665 : Lodgings | i6651 : Hotels (except Casino)/Motels | i81502 : Trusts/Funds/Financial Vehicles | i8150206 : Investment Trusts/Funds | i815020602 : Real Estate Investment Trusts | i85 : Real Estate Transactions | icre : Construction/Real Estate | iinv : Investing/Securities', 'NS': 'c18 : Ownership Changes | c181 : Acquisitions/Mergers/Takeovers | ccat : Corporate/Industrial News', 'RE': 'caab : Alberta | cana : Canada | caon : Ontario | namz : North America | usa : United States | usca : California | usdc : Washington DC | use : Northeast U.S. | usw : Western U.S.', 'PUB': 'Dow Jones & Company', 'AN': 'Document j000000020021018dyai00009'}]\n",
      "https://global-factiva-com.ezproxy.lib.utexas.edu/du/article.aspx/?accessionno=J000000020070713e37d0001n\n",
      "[{'company_code': 'leghot', 'news_code': 'sfwsj', 'date': '2002', 'HD': 'Fairmont Hotels to Run Monarch', 'WC': '83 words', 'PD': '18 October 2002', 'SN': 'The Wall Street Journal', 'SC': 'J', 'PG': 'B5', 'LA': 'English', 'CY': '(Copyright (c) 2002, Dow Jones & Company, Inc.)', 'LP': \"TORONTO -- Fairmont Hotels & Resorts Inc.'s 35%-owned Legacy Hotels\\nReal Estate Investment Trust agreed to acquire the Monarch Hotel in\\nWashington, D.C., for $145 million. Fairmont said it will operate the\\nhotel. Fairmont, which operates New York's Plaza Hotel and a string of\\nCanadian luxury properties, has been seeking to add to its U.S. hotel\\nportfolio. In August, it secured a contract to manage Sonoma Mission Inn\\n& Spa in Sonoma County, Calif.\", 'TD': '', 'CO': 'farmnt : Fairmont Hotels & Resorts Inc | leghot : Legacy Hotels Real Estate Investment Trust', 'IN': 'i66 : Hotels/Restaurants/Casinos | i665 : Lodgings | i6651 : Hotels (except Casino)/Motels | i81502 : Trusts/Funds/Financial Vehicles | i8150206 : Investment Trusts/Funds | i815020602 : Real Estate Investment Trusts | i85 : Real Estate Transactions | icre : Construction/Real Estate | iinv : Investing/Securities', 'NS': 'c18 : Ownership Changes | c181 : Acquisitions/Mergers/Takeovers | ccat : Corporate/Industrial News', 'RE': 'caab : Alberta | cana : Canada | caon : Ontario | namz : North America | usa : United States | usca : California | usdc : Washington DC | use : Northeast U.S. | usw : Western U.S.', 'PUB': 'Dow Jones & Company', 'AN': 'Document j000000020021018dyai00009'}, {'company_code': 'leghot', 'news_code': 'sfwsj', 'date': '2007', 'HD': 'Legacy Hotels REIT Agrees to Acquisition', 'WC': '132 words', 'PD': '13 July 2007', 'SN': 'The Wall Street Journal', 'SC': 'J', 'LA': 'English', 'CY': 'Copyright 2007 Dow Jones & Company, Inc. All Rights Reserved.', 'LP': 'TORONTO -- Legacy Hotels Real Estate Investment Trust agreed to be acquired by Cadbridge Investors LP and InnVest Real Estate Investment Trust for 12.6 Canadian dollars ($12.05) a unit.\\nLegacy valued the proposed acquisition at about C$2.5 billion, including debt.', 'TD': \"Fairmont Hotels &Resorts Inc., Legacy's largest unitholder, representing 20.4% of the outstanding voting rights, entered a lockup agreement to tender its entire ownership interest, Legacy said.\\nAfter the acquisition, Legacy's portfolio of assets will be allocated with Cadbridge owning the large Fairmont-managed hotels and InnVest owning primarily Delta hotels. Cadbridge is a limited partnership formed by Cadim, a division of fund manager Caisse de depot et placement du Quebec and Westmont Hospitality Group. InnVest and Legacy are hotel REITs.\", 'CO': 'farmnt : Fairmont Hotels & Resorts Inc | innves : InnVest Real Estate Investment Trust | leghot : Legacy Hotels Real Estate Investment Trust', 'IN': 'i665 : Lodgings | i8150206 : Investment Trusts/Funds | i815020602 : Real Estate Investment Trusts | i81502 : Trusts/Funds/Financial Vehicles | i85 : Real Estate Transactions | i66 : Hotels/Restaurants/Casinos | icre : Construction/Real Estate | iinv : Investing/Securities | ireest : Real Estate | i6651 : Hotels (except Casino)/Motels | ilea : Leisure/Arts | itourm : Tourism', 'NS': 'c18 : Ownership Changes | c181 : Acquisitions/Mergers/Takeovers | ccat : Corporate/Industrial News | ncat : Content Types | nfact : Factiva Filters | nfcpin : FC&E Industry News Filter', 'RE': 'cana : Canada | caon : Ontario | caqc : Quebec | namz : North America', 'IPC': 'FCL | NND | MNO', 'PUB': 'Dow Jones & Company, Inc.', 'AN': 'Document J000000020070713e37d0001n'}]\n"
     ]
    }
   ],
   "source": [
    "get_text(ut_eid, eid_password, driver_path)"
   ]
  },
  {
   "cell_type": "code",
   "execution_count": null,
   "id": "81651227",
   "metadata": {},
   "outputs": [],
   "source": []
  }
 ],
 "metadata": {
  "kernelspec": {
   "display_name": "Python 3 (ipykernel)",
   "language": "python",
   "name": "python3"
  },
  "language_info": {
   "codemirror_mode": {
    "name": "ipython",
    "version": 3
   },
   "file_extension": ".py",
   "mimetype": "text/x-python",
   "name": "python",
   "nbconvert_exporter": "python",
   "pygments_lexer": "ipython3",
   "version": "3.10.4"
  },
  "vscode": {
   "interpreter": {
    "hash": "fe813d33fb720599d9aada66a4818fd948ad502b51cb82be4fab848c4b8987ff"
   }
  }
 },
 "nbformat": 4,
 "nbformat_minor": 5
}
