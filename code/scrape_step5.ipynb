{
 "cells": [
  {
   "cell_type": "code",
   "execution_count": 1,
   "id": "27e8c3cb",
   "metadata": {},
   "outputs": [],
   "source": [
    "from dotenv import load_dotenv\n",
    "load_dotenv()\n",
    "import os, json, pickle, time\n",
    "import regex as re\n",
    "from bot import set_driver, open_page, get_href_page, check_page\n",
    "from parse import get_article_info\n",
    "\n",
    "output_name = \"gal767\"\n",
    "\n",
    "input_company_file = \"STEP4_Factiva_company_list_No5301_5350_sector_Ishika.csv\"\n",
    "\n",
    "ut_eid = \"gal767\"\n",
    "\n",
    "eid_password = os.getenv('eid_password')\n",
    "\n",
    "driver_path = \"C://Users//galon//cd_secure//chromedriver.exe\"\n",
    "\n",
    "ARTICLE_DIR = os.path.join('..//data', 'article_hrefs', 'test')\n",
    "\n",
    "os.makedirs(ARTICLE_DIR, exist_ok=True)"
   ]
  },
  {
   "cell_type": "code",
   "execution_count": 2,
   "id": "b389d00f",
   "metadata": {},
   "outputs": [],
   "source": [
    "def gen_searches():\n",
    "    \n",
    "    try:\n",
    "        with open('step5_searches.pickle', 'rb') as file:\n",
    "            articles = pickle.load(file)\n",
    "            if len(articles) == 0:\n",
    "                print('Create a new pickle to manage searches; current list has been exhausted.')\n",
    "    except FileNotFoundError:\n",
    "        articles = {}\n",
    "        for file_name in os.listdir(ARTICLE_DIR):\n",
    "            l = []\n",
    "            with open(os.path.join(os.path.join(ARTICLE_DIR, file_name))) as file:\n",
    "                href_list =  [t for t in re.sub('\\n','',file.read()).split(r'\"') if len(re.findall('\\w+', t)) > 0]\n",
    "                for href in href_list:\n",
    "                    l.append(f\"https://global-factiva-com.ezproxy.lib.utexas.edu/{href.split('&')[0].split('../')[1]}\")\n",
    "            articles[file_name.split('.')[0]] = l\n",
    "    return articles"
   ]
  },
  {
   "cell_type": "code",
   "execution_count": 5,
   "id": "ba2194a6",
   "metadata": {
    "scrolled": true
   },
   "outputs": [],
   "source": [
    "def get_text(eid_username, eid_password, path):\n",
    "    \n",
    "    searches = gen_searches()\n",
    "    searches_pickle = searches.copy()\n",
    "    driver, wait = set_driver(path)\n",
    "    open_page(driver, wait, eid_username, eid_password)\n",
    "    print(len(searches))\n",
    "    \n",
    "    for name, list_ in searches.items():\n",
    "        print(list_)\n",
    "        temp = {name: {}}\n",
    "        for n, href in enumerate(list_):\n",
    "            print(href)\n",
    "            temp[name][n] = {}\n",
    "            if \"/du/article.aspx/?accessionno=J\" in href:\n",
    "                print(href)\n",
    "                get_href_page(driver, wait, href)\n",
    "                check_page(driver, wait, href)\n",
    "                text_dict = get_article_info(driver.page_source, temp[name][n])\n",
    "                time.sleep(5)\n",
    "        try:\n",
    "            searches_pickle.pop(name)\n",
    "            print(text_dict)\n",
    "            with open('step5_searches.pickle', 'wb') as file:\n",
    "                pickle.dump(searches_pickle, file)\n",
    "            with open('test_dict.json', 'a+') as file:\n",
    "                file.write('\\n')\n",
    "                json.dump(text_dict, file)\n",
    "                file.write('\\n')\n",
    "        except:\n",
    "            return 'Error when saving'\n",
    "    return text_dict"
   ]
  },
  {
   "cell_type": "code",
   "execution_count": 6,
   "id": "69bb82b0",
   "metadata": {},
   "outputs": [
    {
     "name": "stdout",
     "output_type": "stream",
     "text": [
      "2\n",
      "['https://global-factiva-com.ezproxy.lib.utexas.edu/du/article.aspx/?accessionno=j000000020021018dyai00009']\n",
      "https://global-factiva-com.ezproxy.lib.utexas.edu/du/article.aspx/?accessionno=j000000020021018dyai00009\n"
     ]
    },
    {
     "data": {
      "text/plain": [
       "'Error when saving'"
      ]
     },
     "execution_count": 6,
     "metadata": {},
     "output_type": "execute_result"
    }
   ],
   "source": [
    "get_text(ut_eid, eid_password, driver_path)"
   ]
  },
  {
   "cell_type": "code",
   "execution_count": null,
   "id": "81651227",
   "metadata": {},
   "outputs": [],
   "source": []
  }
 ],
 "metadata": {
  "kernelspec": {
   "display_name": "Python 3 (ipykernel)",
   "language": "python",
   "name": "python3"
  },
  "language_info": {
   "codemirror_mode": {
    "name": "ipython",
    "version": 3
   },
   "file_extension": ".py",
   "mimetype": "text/x-python",
   "name": "python",
   "nbconvert_exporter": "python",
   "pygments_lexer": "ipython3",
   "version": "3.10.4"
  }
 },
 "nbformat": 4,
 "nbformat_minor": 5
}
