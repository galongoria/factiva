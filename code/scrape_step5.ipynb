{
 "cells": [
  {
   "cell_type": "code",
   "execution_count": 1,
   "id": "27e8c3cb",
   "metadata": {},
   "outputs": [],
   "source": [
    "from dotenv import load_dotenv\n",
    "load_dotenv()\n",
    "import os, json, pickle, time\n",
    "import regex as re\n",
    "from bot import set_driver, open_page, get_href_page, check_page\n",
    "from parse import get_article_info\n",
    "\n",
    "ut_eid = \"gal767\"\n",
    "\n",
    "eid_password = os.getenv('eid_password')\n",
    "\n",
    "driver_path = \"C://Users//galon//cd_secure//chromedriver.exe\"\n",
    "\n",
    "ARTICLE_DIR = os.path.join('..//data', 'article_hrefs', 'test')\n",
    "\n",
    "os.makedirs(ARTICLE_DIR, exist_ok=True)"
   ]
  },
  {
   "cell_type": "code",
   "execution_count": 2,
   "id": "b389d00f",
   "metadata": {},
   "outputs": [],
   "source": [
    "def gen_searches():\n",
    "    \n",
    "    try:\n",
    "        with open('step5_searches.pickle', 'rb') as file:\n",
    "            articles = pickle.load(file)\n",
    "            if len(articles) == 0:\n",
    "                print('Create a new pickle to manage searches; current list has been exhausted.')\n",
    "    except FileNotFoundError:\n",
    "        articles = {}\n",
    "        for file_name in os.listdir(ARTICLE_DIR):\n",
    "            l = []\n",
    "            with open(os.path.join(os.path.join(ARTICLE_DIR, file_name))) as file:\n",
    "                href_list =  [t for t in re.sub('\\n','',file.read()).split(r'\"') if len(re.findall('\\w+', t)) > 0]\n",
    "                for href in href_list:\n",
    "                    l.append(f\"https://global-factiva-com.ezproxy.lib.utexas.edu/{href.split('&')[0].split('../')[1]}\")\n",
    "            articles[file_name.split('.')[0]] = l\n",
    "    return articles"
   ]
  },
  {
   "cell_type": "code",
   "execution_count": 3,
   "id": "ba2194a6",
   "metadata": {
    "scrolled": true
   },
   "outputs": [],
   "source": [
    "def get_text(eid_username, eid_password, path):\n",
    "    \n",
    "    searches = gen_searches()\n",
    "    searches_pickle = searches.copy()\n",
    "    driver, wait = set_driver(path)\n",
    "    open_page(driver, wait, eid_username, eid_password)\n",
    "    print(len(searches))\n",
    "    \n",
    "    for name, list_ in searches.items():\n",
    "        print(list_)\n",
    "        temp = {name: {}}\n",
    "        for n, href in enumerate(list_):\n",
    "            print(href)\n",
    "            temp[name][n] = {}\n",
    "            if \"/du/article.aspx/?accessionno=j\" in href.lower():\n",
    "                print(href)\n",
    "                get_href_page(driver, wait, href)\n",
    "                print('got href')\n",
    "                check_page(driver, wait, href)\n",
    "                text_dict = get_article_info(driver.page_source, temp[name][n])\n",
    "                time.sleep(5)\n",
    "    return text_dict\n",
    "#         try:\n",
    "#             searches_pickle.pop(name)\n",
    "#             print(text_dict)\n",
    "#             with open('step5_searches.pickle', 'wb') as file:\n",
    "#                 pickle.dump(searches_pickle, file)\n",
    "#             with open('test_dict.json', 'a+') as file:\n",
    "#                 file.write('\\n')\n",
    "#                 json.dump(text_dict, file)\n",
    "#                 file.write('\\n')\n",
    "#         except:\n",
    "#             return 'Error when saving'\n",
    "#     return text_dict"
   ]
  },
  {
   "cell_type": "code",
   "execution_count": 4,
   "id": "69bb82b0",
   "metadata": {},
   "outputs": [
    {
     "name": "stdout",
     "output_type": "stream",
     "text": [
      "2\n",
      "['https://global-factiva-com.ezproxy.lib.utexas.edu/du/article.aspx/?accessionno=j000000020021018dyai00009']\n",
      "https://global-factiva-com.ezproxy.lib.utexas.edu/du/article.aspx/?accessionno=j000000020021018dyai00009\n",
      "https://global-factiva-com.ezproxy.lib.utexas.edu/du/article.aspx/?accessionno=j000000020021018dyai00009\n",
      "got href\n",
      "['https://global-factiva-com.ezproxy.lib.utexas.edu/du/article.aspx/?accessionno=J000000020070713e37d0001n']\n",
      "https://global-factiva-com.ezproxy.lib.utexas.edu/du/article.aspx/?accessionno=J000000020070713e37d0001n\n",
      "https://global-factiva-com.ezproxy.lib.utexas.edu/du/article.aspx/?accessionno=J000000020070713e37d0001n\n",
      "got href\n"
     ]
    },
    {
     "data": {
      "text/plain": [
       "{'HD': 'Legacy Hotels REIT Agrees to Acquisition',\n",
       " 'WC': '132 words',\n",
       " 'PD': '13 July 2007',\n",
       " 'SN': 'The Wall Street Journal',\n",
       " 'SC': 'J',\n",
       " 'LA': 'English',\n",
       " 'CY': 'Copyright 2007 Dow Jones & Company, Inc. All Rights Reserved.',\n",
       " 'LP': 'TORONTO -- Legacy Hotels Real Estate Investment Trust agreed to be acquired by Cadbridge Investors LP and InnVest Real Estate Investment Trust for 12.6 Canadian dollars ($12.05) a unit.\\nLegacy valued the proposed acquisition at about C$2.5 billion, including debt.',\n",
       " 'TD': \"Fairmont Hotels &Resorts Inc., Legacy's largest unitholder, representing 20.4% of the outstanding voting rights, entered a lockup agreement to tender its entire ownership interest, Legacy said.\\nAfter the acquisition, Legacy's portfolio of assets will be allocated with Cadbridge owning the large Fairmont-managed hotels and InnVest owning primarily Delta hotels. Cadbridge is a limited partnership formed by Cadim, a division of fund manager Caisse de depot et placement du Quebec and Westmont Hospitality Group. InnVest and Legacy are hotel REITs.\",\n",
       " 'CO': 'farmnt : Fairmont Hotels & Resorts Inc | innves : InnVest Real Estate Investment Trust | leghot : Legacy Hotels Real Estate Investment Trust',\n",
       " 'IN': 'i665 : Lodgings | i8150206 : Investment Trusts/Funds | i815020602 : Real Estate Investment Trusts | i81502 : Trusts/Funds/Financial Vehicles | i85 : Real Estate Transactions | i66 : Hotels/Restaurants/Casinos | icre : Construction/Real Estate | iinv : Investing/Securities | ireest : Real Estate | i6651 : Hotels (except Casino)/Motels | ilea : Leisure/Arts | itourm : Tourism',\n",
       " 'NS': 'c18 : Ownership Changes | c181 : Acquisitions/Mergers/Takeovers | ccat : Corporate/Industrial News | ncat : Content Types | nfact : Factiva Filters | nfcpin : FC&E Industry News Filter',\n",
       " 'RE': 'cana : Canada | caon : Ontario | caqc : Quebec | namz : North America',\n",
       " 'IPC': 'FCL | NND | MNO',\n",
       " 'PUB': 'Dow Jones & Company, Inc.',\n",
       " 'AN': 'Document J000000020070713e37d0001n'}"
      ]
     },
     "execution_count": 4,
     "metadata": {},
     "output_type": "execute_result"
    }
   ],
   "source": [
    "get_text(ut_eid, eid_password, driver_path)"
   ]
  },
  {
   "cell_type": "code",
   "execution_count": null,
   "id": "5cd706e6",
   "metadata": {},
   "outputs": [],
   "source": []
  }
 ],
 "metadata": {
  "kernelspec": {
   "display_name": "Python 3 (ipykernel)",
   "language": "python",
   "name": "python3"
  },
  "language_info": {
   "codemirror_mode": {
    "name": "ipython",
    "version": 3
   },
   "file_extension": ".py",
   "mimetype": "text/x-python",
   "name": "python",
   "nbconvert_exporter": "python",
   "pygments_lexer": "ipython3",
   "version": "3.10.4"
  }
 },
 "nbformat": 4,
 "nbformat_minor": 5
}
