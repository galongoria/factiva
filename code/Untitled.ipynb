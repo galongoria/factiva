{
 "cells": [
  {
   "cell_type": "code",
   "execution_count": 22,
   "id": "6cc892da",
   "metadata": {},
   "outputs": [],
   "source": [
    "l = [(1995, 2010)]\n",
    "for r in range(2011, 2021):\n",
    "    l.append((r,r))\n"
   ]
  },
  {
   "cell_type": "code",
   "execution_count": 23,
   "id": "00331ec9",
   "metadata": {},
   "outputs": [
    {
     "data": {
      "text/plain": [
       "[(1995, 2010),\n",
       " (2011, 2011),\n",
       " (2012, 2012),\n",
       " (2013, 2013),\n",
       " (2014, 2014),\n",
       " (2015, 2015),\n",
       " (2016, 2016),\n",
       " (2017, 2017),\n",
       " (2018, 2018),\n",
       " (2019, 2019),\n",
       " (2020, 2020)]"
      ]
     },
     "execution_count": 23,
     "metadata": {},
     "output_type": "execute_result"
    }
   ],
   "source": [
    "l"
   ]
  },
  {
   "cell_type": "code",
   "execution_count": null,
   "id": "279590dd",
   "metadata": {},
   "outputs": [],
   "source": []
  }
 ],
 "metadata": {
  "kernelspec": {
   "display_name": "Python 3 (ipykernel)",
   "language": "python",
   "name": "python3"
  },
  "language_info": {
   "codemirror_mode": {
    "name": "ipython",
    "version": 3
   },
   "file_extension": ".py",
   "mimetype": "text/x-python",
   "name": "python",
   "nbconvert_exporter": "python",
   "pygments_lexer": "ipython3",
   "version": "3.10.4"
  }
 },
 "nbformat": 4,
 "nbformat_minor": 5
}
