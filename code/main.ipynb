{
 "cells": [
  {
   "cell_type": "code",
   "execution_count": null,
   "id": "6d25c8a6",
   "metadata": {},
   "outputs": [],
   "source": [
    "from step4 import get_all_frequencies\n",
    "import os\n",
    "\n",
    "#### Enter variables:\n",
    "\n",
    "ut_eid = \"ENTER_UT_EID\"\n",
    "\n",
    "eid_password = \"ENTER_EID_PASSWORD\"\n",
    "\n",
    "last_name = \"ENTER_YOUR_LAST_NAME\"\n",
    "\n",
    "input_company_file = \"ENTER_INPUT_FILE_NAME\""
   ]
  },
  {
   "cell_type": "code",
   "execution_count": null,
   "id": "614e38ed",
   "metadata": {},
   "outputs": [],
   "source": [
    "get_all_frequencies(ut_eid, eid_password, last_name, input_company_file)"
   ]
  }
 ],
 "metadata": {
  "kernelspec": {
   "display_name": "venv",
   "language": "python",
   "name": "venv"
  },
  "language_info": {
   "codemirror_mode": {
    "name": "ipython",
    "version": 3
   },
   "file_extension": ".py",
   "mimetype": "text/x-python",
   "name": "python",
   "nbconvert_exporter": "python",
   "pygments_lexer": "ipython3",
   "version": "3.10.4"
  }
 },
 "nbformat": 4,
 "nbformat_minor": 5
}
