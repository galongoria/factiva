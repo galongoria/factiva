{
 "cells": [
  {
   "cell_type": "code",
   "execution_count": 1,
   "id": "6d25c8a6",
   "metadata": {},
   "outputs": [],
   "source": [
    "from step4 import get_all_frequencies\n",
    "import os\n",
    "\n",
    "### Enter variables: ###\n",
    "output_file_name = \"test_1\"\n",
    "\n",
    "input_company_file = \"STEP4_Factiva_company_list_No5301_5350_sector_Ishika_wb\"\n",
    "\n",
    "ut_eid = \"gal767\"\n",
    "\n",
    "eid_password = os.getenv('eid_password')\n",
    "\n",
    "driver_folder = r\"C:\\Users\\galon\\cd_secure\"\n",
    "\n",
    "step = 4\n",
    "########################"
   ]
  },
  {
   "cell_type": "code",
   "execution_count": 2,
   "id": "614e38ed",
   "metadata": {},
   "outputs": [],
   "source": [
    "def run_scraper(step, *scrapers):\n",
    "    if step == 4:\n",
    "        get_all_frequencies(\n",
    "            ut_eid,\n",
    "            eid_password,\n",
    "            driver_folder,\n",
    "            input_company_file,\n",
    "            output_file_name,\n",
    "        )"
   ]
  },
  {
   "cell_type": "code",
   "execution_count": null,
   "id": "0f3dbc02",
   "metadata": {
    "scrolled": false
   },
   "outputs": [
    {
     "name": "stdout",
     "output_type": "stream",
     "text": [
      "\n",
      "Starting at: 2023-03-07 23:05:26.416343\n",
      "First search term is rst=sfusat and fds=leghot,sfusat,leghot\n",
      "Length of the current list is 506\n",
      "\n",
      "Session expired, restarting...\n",
      "Duo cookies still valid; proceeding to search page...\n",
      "Session expired, restarting...\n",
      "Duo cookies still valid; proceeding to search page...\n",
      "Session expired, restarting...\n",
      "Duo cookies still valid; proceeding to search page...\n",
      "Session expired, restarting...\n",
      "Duo cookies still valid; proceeding to search page...\n",
      "Session expired, restarting...\n",
      "Duo cookies still valid; proceeding to search page...\n"
     ]
    }
   ],
   "source": [
    "run_scraper(step, get_all_frequencies)"
   ]
  },
  {
   "cell_type": "code",
   "execution_count": null,
   "id": "bfd79c62",
   "metadata": {},
   "outputs": [],
   "source": []
  }
 ],
 "metadata": {
  "kernelspec": {
   "display_name": "venv",
   "language": "python",
   "name": "venv"
  },
  "language_info": {
   "codemirror_mode": {
    "name": "ipython",
    "version": 3
   },
   "file_extension": ".py",
   "mimetype": "text/x-python",
   "name": "python",
   "nbconvert_exporter": "python",
   "pygments_lexer": "ipython3",
   "version": "3.10.4"
  }
 },
 "nbformat": 4,
 "nbformat_minor": 5
}
