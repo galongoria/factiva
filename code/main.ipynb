{
 "cells": [
  {
   "cell_type": "code",
   "execution_count": 1,
   "id": "6d25c8a6",
   "metadata": {},
   "outputs": [
    {
     "ename": "ImportError",
     "evalue": "cannot import name 'get_soup' from 'parse' (C:\\Users\\galon\\factiva\\code\\parse.py)",
     "output_type": "error",
     "traceback": [
      "\u001b[1;31m---------------------------------------------------------------------------\u001b[0m",
      "\u001b[1;31mImportError\u001b[0m                               Traceback (most recent call last)",
      "Input \u001b[1;32mIn [1]\u001b[0m, in \u001b[0;36m<cell line: 1>\u001b[1;34m()\u001b[0m\n\u001b[1;32m----> 1\u001b[0m \u001b[38;5;28;01mfrom\u001b[39;00m \u001b[38;5;21;01mstep4\u001b[39;00m \u001b[38;5;28;01mimport\u001b[39;00m get_all_frequencies\n\u001b[0;32m      2\u001b[0m \u001b[38;5;28;01mimport\u001b[39;00m \u001b[38;5;21;01mos\u001b[39;00m\n\u001b[0;32m      4\u001b[0m \u001b[38;5;66;03m### Enter variables: ###\u001b[39;00m\n",
      "File \u001b[1;32m~\\factiva\\code\\step4.py:6\u001b[0m, in \u001b[0;36m<module>\u001b[1;34m\u001b[0m\n\u001b[0;32m      4\u001b[0m \u001b[38;5;28;01mimport\u001b[39;00m \u001b[38;5;21;01mpickle\u001b[39;00m\u001b[38;5;241m,\u001b[39m \u001b[38;5;21;01mjson\u001b[39;00m\u001b[38;5;241m,\u001b[39m \u001b[38;5;21;01mos\u001b[39;00m\n\u001b[0;32m      5\u001b[0m \u001b[38;5;28;01mimport\u001b[39;00m \u001b[38;5;21;01mpandas\u001b[39;00m \u001b[38;5;28;01mas\u001b[39;00m \u001b[38;5;21;01mpd\u001b[39;00m\n\u001b[1;32m----> 6\u001b[0m \u001b[38;5;28;01mfrom\u001b[39;00m \u001b[38;5;21;01mparse\u001b[39;00m \u001b[38;5;28;01mimport\u001b[39;00m get_page_info, get_duplicates, get_years, check_frequency_chart, get_soup\n\u001b[0;32m      7\u001b[0m \u001b[38;5;28;01mfrom\u001b[39;00m \u001b[38;5;21;01mbot\u001b[39;00m \u001b[38;5;28;01mimport\u001b[39;00m open_page, get_new_page, enter_search, next_page, login, set_driver\n\u001b[0;32m     10\u001b[0m \u001b[38;5;66;03m### Directories ###\u001b[39;00m\n",
      "\u001b[1;31mImportError\u001b[0m: cannot import name 'get_soup' from 'parse' (C:\\Users\\galon\\factiva\\code\\parse.py)"
     ]
    }
   ],
   "source": [
    "from step4 import get_all_frequencies\n",
    "import os\n",
    "\n",
    "### Enter variables: ###\n",
    "\n",
    "output_file_name = \"test_1\"\n",
    "\n",
    "input_company_file = \"STEP4_Factiva_company_list_No5301_5350_sector_Ishika\"\n",
    "\n",
    "ut_eid = \"gal767\"\n",
    "\n",
    "eid_password = os.getenv('eid_password')\n",
    "\n",
    "driver_path = r\"C:\\Users\\galon\\cd_secure\\chromedriver.exe\"\n",
    "\n",
    "step = 4\n",
    "\n",
    "########################\n"
   ]
  },
  {
   "cell_type": "code",
   "execution_count": null,
   "id": "78fc5362",
   "metadata": {},
   "outputs": [],
   "source": [
    "def run_scraper(step, *scrapers):\n",
    "    \n",
    "    if step == 4:\n",
    "        \n",
    "        get_all_frequencies(\n",
    "            ut_eid, \n",
    "            eid_password, \n",
    "            driver_path, \n",
    "            input_company_file, \n",
    "            output_file_name,\n",
    "        )"
   ]
  },
  {
   "cell_type": "code",
   "execution_count": null,
   "id": "0f3dbc02",
   "metadata": {
    "scrolled": false
   },
   "outputs": [],
   "source": [
    "run_scraper(step, get_all_frequencies)"
   ]
  },
  {
   "cell_type": "code",
   "execution_count": 2,
   "id": "c071c1d6",
   "metadata": {},
   "outputs": [
    {
     "data": {
      "text/plain": [
       "['iiii']"
      ]
     },
     "execution_count": 2,
     "metadata": {},
     "output_type": "execute_result"
    }
   ],
   "source": [
    "['i'*4]"
   ]
  },
  {
   "cell_type": "code",
   "execution_count": null,
   "id": "3b2d3dc1",
   "metadata": {},
   "outputs": [],
   "source": []
  }
 ],
 "metadata": {
  "kernelspec": {
   "display_name": "venv",
   "language": "python",
   "name": "venv"
  },
  "language_info": {
   "codemirror_mode": {
    "name": "ipython",
    "version": 3
   },
   "file_extension": ".py",
   "mimetype": "text/x-python",
   "name": "python",
   "nbconvert_exporter": "python",
   "pygments_lexer": "ipython3",
   "version": "3.10.4"
  }
 },
 "nbformat": 4,
 "nbformat_minor": 5
}
