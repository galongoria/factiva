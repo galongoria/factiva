{
 "cells": [
  {
   "cell_type": "code",
   "execution_count": 4,
   "id": "6d25c8a6",
   "metadata": {},
   "outputs": [],
   "source": [
    "from step4 import get_all_frequencies\n",
    "import os\n",
    "\n",
    "\n",
    "#### Enter variables:\n",
    "\n",
    "ut_eid = \"gal767\"\n",
    "\n",
    "eid_password = os.getenv('eid_password')\n",
    "\n",
    "last_name = \"Longoria\"\n",
    "\n",
    "input_company_file = \"STEP4_Factiva_company_list_No5301_5350_sector_Ishika\"\n",
    "\n",
    "step = 4"
   ]
  },
  {
   "cell_type": "code",
   "execution_count": null,
   "id": "efefe56b",
   "metadata": {},
   "outputs": [],
   "source": [
    "def gen_output_name(input_company_file, last_name):\n",
    "    \n",
    "    output_name = \n",
    "    \n",
    "    read = False\n",
    "    for string in input_company_file.split('_'):\n",
    "        \n",
    "        if \"No\""
   ]
  },
  {
   "cell_type": "code",
   "execution_count": 2,
   "id": "614e38ed",
   "metadata": {},
   "outputs": [],
   "source": [
    "def run_scraper(step, *scrapers):\n",
    "    if step == 4:\n",
    "        get_all_frequencies(\n",
    "            \n",
    "            ut_eid, eid_password, input_company_file, last_name\n",
    "            \n",
    "        )"
   ]
  },
  {
   "cell_type": "code",
   "execution_count": 3,
   "id": "0f3dbc02",
   "metadata": {
    "scrolled": false
   },
   "outputs": [
    {
     "name": "stdout",
     "output_type": "stream",
     "text": [
      "\n"
     ]
    },
    {
     "name": "stderr",
     "output_type": "stream",
     "text": [
      "[WDM] - ====== WebDriver manager ======\n",
      "[WDM] - Current google-chrome version is 102.0.5005\n",
      "[WDM] - Get LATEST chromedriver version for 102.0.5005 google-chrome\n",
      "[WDM] - There is no [win32] chromedriver for browser 102.0.5005 in cache\n",
      "[WDM] - About to download new driver from https://chromedriver.storage.googleapis.com/102.0.5005.61/chromedriver_win32.zip\n",
      "[WDM] - Driver has been saved in cache [C:\\Users\\galon\\factiva\\code\\driver\\.wdm\\drivers\\chromedriver\\win32\\102.0.5005.61]\n"
     ]
    },
    {
     "name": "stdout",
     "output_type": "stream",
     "text": [
      "\n",
      "Starting at: 2023-03-08 23:03:17.895098\n",
      "First search term is (rst=cordes or rst=coronl or rst=corsup) and fds=polit,sfcordesp,polit\n",
      "Length of the current list is 225\n",
      "\n",
      "Error when saving\n"
     ]
    }
   ],
   "source": [
    "run_scraper(step, get_all_frequencies)"
   ]
  },
  {
   "cell_type": "code",
   "execution_count": null,
   "id": "bfd79c62",
   "metadata": {},
   "outputs": [],
   "source": []
  }
 ],
 "metadata": {
  "kernelspec": {
   "display_name": "venv",
   "language": "python",
   "name": "venv"
  },
  "language_info": {
   "codemirror_mode": {
    "name": "ipython",
    "version": 3
   },
   "file_extension": ".py",
   "mimetype": "text/x-python",
   "name": "python",
   "nbconvert_exporter": "python",
   "pygments_lexer": "ipython3",
   "version": "3.10.4"
  }
 },
 "nbformat": 4,
 "nbformat_minor": 5
}
